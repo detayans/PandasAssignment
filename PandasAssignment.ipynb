{
  "nbformat": 4,
  "nbformat_minor": 0,
  "metadata": {
    "colab": {
      "name": "PandasAssignment.ipynb",
      "provenance": [],
      "authorship_tag": "ABX9TyMPwMklbM1Ku6RGpmW64RwF",
      "include_colab_link": true
    },
    "kernelspec": {
      "name": "python3",
      "display_name": "Python 3"
    },
    "language_info": {
      "name": "python"
    }
  },
  "cells": [
    {
      "cell_type": "markdown",
      "metadata": {
        "id": "view-in-github",
        "colab_type": "text"
      },
      "source": [
        "<a href=\"https://colab.research.google.com/github/detayans/PandasAssignment/blob/main/PandasAssignment.ipynb\" target=\"_parent\"><img src=\"https://colab.research.google.com/assets/colab-badge.svg\" alt=\"Open In Colab\"/></a>"
      ]
    },
    {
      "cell_type": "code",
      "metadata": {
        "id": "9h4FOfh91KX6"
      },
      "source": [
        "import numpy as np"
      ],
      "execution_count": null,
      "outputs": []
    },
    {
      "cell_type": "code",
      "metadata": {
        "colab": {
          "base_uri": "https://localhost:8080/"
        },
        "id": "DbAeYH991cNB",
        "outputId": "c200c0c2-4396-4724-a24b-9f3a2440973c"
      },
      "source": [
        "#1) Generate an array of zeroes using inbuilt numpy function.\n",
        "a = np.zeros(3)\n",
        "a"
      ],
      "execution_count": null,
      "outputs": [
        {
          "output_type": "execute_result",
          "data": {
            "text/plain": [
              "array([0., 0., 0.])"
            ]
          },
          "metadata": {},
          "execution_count": 49
        }
      ]
    },
    {
      "cell_type": "code",
      "metadata": {
        "colab": {
          "base_uri": "https://localhost:8080/"
        },
        "id": "EMWmZNPo1pw8",
        "outputId": "493f243a-3868-44df-880f-0365c7c0f24c"
      },
      "source": [
        "#2) Run the given code and find the dot product of both arrays.\n",
        "import numpy as np\n",
        "a = np.random.randint(2,10, (3,4))\n",
        "b = np.random.randint(2,10, (4,3))\n",
        "print(a)\n",
        "print(b)"
      ],
      "execution_count": null,
      "outputs": [
        {
          "output_type": "stream",
          "name": "stdout",
          "text": [
            "[[6 4 4 8]\n",
            " [8 3 9 2]\n",
            " [7 9 4 7]]\n",
            "[[6 7 7]\n",
            " [7 2 9]\n",
            " [4 2 4]\n",
            " [4 5 6]]\n"
          ]
        }
      ]
    },
    {
      "cell_type": "code",
      "metadata": {
        "colab": {
          "base_uri": "https://localhost:8080/"
        },
        "id": "QXqNA4m5130e",
        "outputId": "7d4055be-f94f-48c4-9096-9acd0fa51121"
      },
      "source": [
        "a.dot(b)"
      ],
      "execution_count": null,
      "outputs": [
        {
          "output_type": "execute_result",
          "data": {
            "text/plain": [
              "array([[112,  98, 142],\n",
              "       [113,  90, 131],\n",
              "       [149, 110, 188]])"
            ]
          },
          "metadata": {},
          "execution_count": 51
        }
      ]
    },
    {
      "cell_type": "code",
      "metadata": {
        "colab": {
          "base_uri": "https://localhost:8080/"
        },
        "id": "O0rGw2wq2GJp",
        "outputId": "d4db11e7-8d24-494d-9c95-4a024f89f03c"
      },
      "source": [
        "b.dot(a)"
      ],
      "execution_count": null,
      "outputs": [
        {
          "output_type": "execute_result",
          "data": {
            "text/plain": [
              "array([[141, 108, 115, 111],\n",
              "       [121, 115,  82, 123],\n",
              "       [ 68,  58,  50,  64],\n",
              "       [106,  85,  85,  84]])"
            ]
          },
          "metadata": {},
          "execution_count": 52
        }
      ]
    },
    {
      "cell_type": "code",
      "metadata": {
        "id": "FmXJTvOH2KZe"
      },
      "source": [
        "#3)Read the csv file provided using pandas and display the first 5 entries\n",
        "import pandas as pd\n"
      ],
      "execution_count": null,
      "outputs": []
    },
    {
      "cell_type": "code",
      "metadata": {
        "colab": {
          "base_uri": "https://localhost:8080/",
          "height": 223
        },
        "id": "tmRU19qR2ozG",
        "outputId": "8e2f470b-96a8-49ff-c443-c51c16ef98eb"
      },
      "source": [
        "data = pd.read_csv('/content/data.csv')\n",
        "data.head(5)"
      ],
      "execution_count": null,
      "outputs": [
        {
          "output_type": "execute_result",
          "data": {
            "text/html": [
              "<div>\n",
              "<style scoped>\n",
              "    .dataframe tbody tr th:only-of-type {\n",
              "        vertical-align: middle;\n",
              "    }\n",
              "\n",
              "    .dataframe tbody tr th {\n",
              "        vertical-align: top;\n",
              "    }\n",
              "\n",
              "    .dataframe thead th {\n",
              "        text-align: right;\n",
              "    }\n",
              "</style>\n",
              "<table border=\"1\" class=\"dataframe\">\n",
              "  <thead>\n",
              "    <tr style=\"text-align: right;\">\n",
              "      <th></th>\n",
              "      <th>OBJECTID</th>\n",
              "      <th>UNIT_NAME</th>\n",
              "      <th>DESCRIPTION</th>\n",
              "      <th>ACRES</th>\n",
              "      <th>SHAPE.AREA</th>\n",
              "      <th>SHAPE.LEN</th>\n",
              "    </tr>\n",
              "  </thead>\n",
              "  <tbody>\n",
              "    <tr>\n",
              "      <th>0</th>\n",
              "      <td>21</td>\n",
              "      <td>Fort Stevenson State Park</td>\n",
              "      <td>State Park</td>\n",
              "      <td>586.48</td>\n",
              "      <td>0.000284</td>\n",
              "      <td>0.135641</td>\n",
              "    </tr>\n",
              "    <tr>\n",
              "      <th>1</th>\n",
              "      <td>22</td>\n",
              "      <td>Beaver Lake State Park</td>\n",
              "      <td>State Park</td>\n",
              "      <td>273.16</td>\n",
              "      <td>0.000129</td>\n",
              "      <td>0.080067</td>\n",
              "    </tr>\n",
              "    <tr>\n",
              "      <th>2</th>\n",
              "      <td>23</td>\n",
              "      <td>Fort Abraham Lincoln State Park</td>\n",
              "      <td>State Park</td>\n",
              "      <td>836.47</td>\n",
              "      <td>0.000399</td>\n",
              "      <td>0.119868</td>\n",
              "    </tr>\n",
              "    <tr>\n",
              "      <th>3</th>\n",
              "      <td>24</td>\n",
              "      <td>Fort Ransom State Park</td>\n",
              "      <td>State Park</td>\n",
              "      <td>933.78</td>\n",
              "      <td>0.000444</td>\n",
              "      <td>0.128733</td>\n",
              "    </tr>\n",
              "    <tr>\n",
              "      <th>4</th>\n",
              "      <td>25</td>\n",
              "      <td>Grahams Island State Park</td>\n",
              "      <td>State Park</td>\n",
              "      <td>959.33</td>\n",
              "      <td>0.000469</td>\n",
              "      <td>0.125546</td>\n",
              "    </tr>\n",
              "  </tbody>\n",
              "</table>\n",
              "</div>"
            ],
            "text/plain": [
              "   OBJECTID                        UNIT_NAME  ... SHAPE.AREA  SHAPE.LEN\n",
              "0        21        Fort Stevenson State Park  ...   0.000284   0.135641\n",
              "1        22           Beaver Lake State Park  ...   0.000129   0.080067\n",
              "2        23  Fort Abraham Lincoln State Park  ...   0.000399   0.119868\n",
              "3        24           Fort Ransom State Park  ...   0.000444   0.128733\n",
              "4        25        Grahams Island State Park  ...   0.000469   0.125546\n",
              "\n",
              "[5 rows x 6 columns]"
            ]
          },
          "metadata": {},
          "execution_count": 54
        }
      ]
    },
    {
      "cell_type": "code",
      "metadata": {
        "colab": {
          "base_uri": "https://localhost:8080/",
          "height": 1000
        },
        "id": "0UtDzWud3Lek",
        "outputId": "387fe755-4e3d-44da-c76e-30e0abd9df12"
      },
      "source": [
        "#4)Describe the data with all features.\n",
        "data"
      ],
      "execution_count": null,
      "outputs": [
        {
          "output_type": "execute_result",
          "data": {
            "text/html": [
              "<div>\n",
              "<style scoped>\n",
              "    .dataframe tbody tr th:only-of-type {\n",
              "        vertical-align: middle;\n",
              "    }\n",
              "\n",
              "    .dataframe tbody tr th {\n",
              "        vertical-align: top;\n",
              "    }\n",
              "\n",
              "    .dataframe thead th {\n",
              "        text-align: right;\n",
              "    }\n",
              "</style>\n",
              "<table border=\"1\" class=\"dataframe\">\n",
              "  <thead>\n",
              "    <tr style=\"text-align: right;\">\n",
              "      <th></th>\n",
              "      <th>OBJECTID</th>\n",
              "      <th>UNIT_NAME</th>\n",
              "      <th>DESCRIPTION</th>\n",
              "      <th>ACRES</th>\n",
              "      <th>SHAPE.AREA</th>\n",
              "      <th>SHAPE.LEN</th>\n",
              "    </tr>\n",
              "  </thead>\n",
              "  <tbody>\n",
              "    <tr>\n",
              "      <th>0</th>\n",
              "      <td>21</td>\n",
              "      <td>Fort Stevenson State Park</td>\n",
              "      <td>State Park</td>\n",
              "      <td>586.48</td>\n",
              "      <td>0.000284</td>\n",
              "      <td>0.135641</td>\n",
              "    </tr>\n",
              "    <tr>\n",
              "      <th>1</th>\n",
              "      <td>22</td>\n",
              "      <td>Beaver Lake State Park</td>\n",
              "      <td>State Park</td>\n",
              "      <td>273.16</td>\n",
              "      <td>0.000129</td>\n",
              "      <td>0.080067</td>\n",
              "    </tr>\n",
              "    <tr>\n",
              "      <th>2</th>\n",
              "      <td>23</td>\n",
              "      <td>Fort Abraham Lincoln State Park</td>\n",
              "      <td>State Park</td>\n",
              "      <td>836.47</td>\n",
              "      <td>0.000399</td>\n",
              "      <td>0.119868</td>\n",
              "    </tr>\n",
              "    <tr>\n",
              "      <th>3</th>\n",
              "      <td>24</td>\n",
              "      <td>Fort Ransom State Park</td>\n",
              "      <td>State Park</td>\n",
              "      <td>933.78</td>\n",
              "      <td>0.000444</td>\n",
              "      <td>0.128733</td>\n",
              "    </tr>\n",
              "    <tr>\n",
              "      <th>4</th>\n",
              "      <td>25</td>\n",
              "      <td>Grahams Island State Park</td>\n",
              "      <td>State Park</td>\n",
              "      <td>959.33</td>\n",
              "      <td>0.000469</td>\n",
              "      <td>0.125546</td>\n",
              "    </tr>\n",
              "    <tr>\n",
              "      <th>5</th>\n",
              "      <td>26</td>\n",
              "      <td>Icelandic State Park</td>\n",
              "      <td>State Park</td>\n",
              "      <td>930.30</td>\n",
              "      <td>0.000461</td>\n",
              "      <td>0.166712</td>\n",
              "    </tr>\n",
              "    <tr>\n",
              "      <th>6</th>\n",
              "      <td>27</td>\n",
              "      <td>Lake Metigoshe State Park</td>\n",
              "      <td>State Park</td>\n",
              "      <td>1508.53</td>\n",
              "      <td>0.000751</td>\n",
              "      <td>0.212196</td>\n",
              "    </tr>\n",
              "    <tr>\n",
              "      <th>7</th>\n",
              "      <td>28</td>\n",
              "      <td>Lewis and Clark State Park</td>\n",
              "      <td>State Park</td>\n",
              "      <td>524.81</td>\n",
              "      <td>0.000256</td>\n",
              "      <td>0.130420</td>\n",
              "    </tr>\n",
              "    <tr>\n",
              "      <th>8</th>\n",
              "      <td>29</td>\n",
              "      <td>Lewis and Clark Interpretive Center</td>\n",
              "      <td>Interpretive Center</td>\n",
              "      <td>14.71</td>\n",
              "      <td>0.000007</td>\n",
              "      <td>0.016774</td>\n",
              "    </tr>\n",
              "    <tr>\n",
              "      <th>9</th>\n",
              "      <td>30</td>\n",
              "      <td>Fort Mandan State Recreation Area</td>\n",
              "      <td>State Recreation Area</td>\n",
              "      <td>11.40</td>\n",
              "      <td>0.000005</td>\n",
              "      <td>0.009396</td>\n",
              "    </tr>\n",
              "    <tr>\n",
              "      <th>10</th>\n",
              "      <td>31</td>\n",
              "      <td>Little Missouri State Park</td>\n",
              "      <td>State Park</td>\n",
              "      <td>6492.93</td>\n",
              "      <td>0.003136</td>\n",
              "      <td>0.313756</td>\n",
              "    </tr>\n",
              "    <tr>\n",
              "      <th>11</th>\n",
              "      <td>32</td>\n",
              "      <td>Sully Creek State Park</td>\n",
              "      <td>State Park</td>\n",
              "      <td>63.03</td>\n",
              "      <td>0.000030</td>\n",
              "      <td>0.024016</td>\n",
              "    </tr>\n",
              "    <tr>\n",
              "      <th>12</th>\n",
              "      <td>35</td>\n",
              "      <td>Butte St. Paul State Recreation Area</td>\n",
              "      <td>State Recreation Area</td>\n",
              "      <td>51.23</td>\n",
              "      <td>0.000025</td>\n",
              "      <td>0.022095</td>\n",
              "    </tr>\n",
              "    <tr>\n",
              "      <th>13</th>\n",
              "      <td>36</td>\n",
              "      <td>Crow Flies High State Recreation Area</td>\n",
              "      <td>State Recreation Area</td>\n",
              "      <td>247.11</td>\n",
              "      <td>0.000120</td>\n",
              "      <td>0.050518</td>\n",
              "    </tr>\n",
              "    <tr>\n",
              "      <th>14</th>\n",
              "      <td>33</td>\n",
              "      <td>Turtle River State Park</td>\n",
              "      <td>State Park</td>\n",
              "      <td>775.28</td>\n",
              "      <td>0.000378</td>\n",
              "      <td>0.145220</td>\n",
              "    </tr>\n",
              "    <tr>\n",
              "      <th>15</th>\n",
              "      <td>34</td>\n",
              "      <td>Lake Sakakawea State Park</td>\n",
              "      <td>State Park</td>\n",
              "      <td>739.52</td>\n",
              "      <td>0.000357</td>\n",
              "      <td>0.191806</td>\n",
              "    </tr>\n",
              "    <tr>\n",
              "      <th>16</th>\n",
              "      <td>37</td>\n",
              "      <td>Elkhorn State Natural Area</td>\n",
              "      <td>State Natural Area</td>\n",
              "      <td>264.84</td>\n",
              "      <td>0.000127</td>\n",
              "      <td>0.067082</td>\n",
              "    </tr>\n",
              "    <tr>\n",
              "      <th>17</th>\n",
              "      <td>38</td>\n",
              "      <td>Fahlgren Park State Recreation Area</td>\n",
              "      <td>State Recreation Area</td>\n",
              "      <td>21.56</td>\n",
              "      <td>0.000010</td>\n",
              "      <td>0.013294</td>\n",
              "    </tr>\n",
              "    <tr>\n",
              "      <th>18</th>\n",
              "      <td>39</td>\n",
              "      <td>Gunlogson State Nature Preserve</td>\n",
              "      <td>State Nature Preserve</td>\n",
              "      <td>95.89</td>\n",
              "      <td>0.000048</td>\n",
              "      <td>0.040465</td>\n",
              "    </tr>\n",
              "    <tr>\n",
              "      <th>19</th>\n",
              "      <td>40</td>\n",
              "      <td>Head of the Mountain State Nature Preserve</td>\n",
              "      <td>State Nature Preserve</td>\n",
              "      <td>72.30</td>\n",
              "      <td>0.000034</td>\n",
              "      <td>0.033885</td>\n",
              "    </tr>\n",
              "    <tr>\n",
              "      <th>20</th>\n",
              "      <td>41</td>\n",
              "      <td>Missouri River State Natural Area</td>\n",
              "      <td>State Natural Area</td>\n",
              "      <td>174.39</td>\n",
              "      <td>0.000083</td>\n",
              "      <td>0.087192</td>\n",
              "    </tr>\n",
              "    <tr>\n",
              "      <th>21</th>\n",
              "      <td>43</td>\n",
              "      <td>Pembina Gorge State Recreation Area</td>\n",
              "      <td>State Recreation Area</td>\n",
              "      <td>1236.98</td>\n",
              "      <td>0.000615</td>\n",
              "      <td>0.338800</td>\n",
              "    </tr>\n",
              "    <tr>\n",
              "      <th>22</th>\n",
              "      <td>44</td>\n",
              "      <td>Turtle Mountain State Recreation Area</td>\n",
              "      <td>State Recreation Area</td>\n",
              "      <td>695.04</td>\n",
              "      <td>0.000345</td>\n",
              "      <td>0.086487</td>\n",
              "    </tr>\n",
              "    <tr>\n",
              "      <th>23</th>\n",
              "      <td>45</td>\n",
              "      <td>Cross Ranch State Park</td>\n",
              "      <td>State Park</td>\n",
              "      <td>569.07</td>\n",
              "      <td>0.000274</td>\n",
              "      <td>0.180257</td>\n",
              "    </tr>\n",
              "    <tr>\n",
              "      <th>24</th>\n",
              "      <td>42</td>\n",
              "      <td>Pelican Point State Recreation Area</td>\n",
              "      <td>State Recreation Area</td>\n",
              "      <td>25.22</td>\n",
              "      <td>0.000013</td>\n",
              "      <td>0.026357</td>\n",
              "    </tr>\n",
              "  </tbody>\n",
              "</table>\n",
              "</div>"
            ],
            "text/plain": [
              "    OBJECTID                                   UNIT_NAME  ... SHAPE.AREA  SHAPE.LEN\n",
              "0         21                   Fort Stevenson State Park  ...   0.000284   0.135641\n",
              "1         22                      Beaver Lake State Park  ...   0.000129   0.080067\n",
              "2         23             Fort Abraham Lincoln State Park  ...   0.000399   0.119868\n",
              "3         24                      Fort Ransom State Park  ...   0.000444   0.128733\n",
              "4         25                   Grahams Island State Park  ...   0.000469   0.125546\n",
              "5         26                        Icelandic State Park  ...   0.000461   0.166712\n",
              "6         27                   Lake Metigoshe State Park  ...   0.000751   0.212196\n",
              "7         28                  Lewis and Clark State Park  ...   0.000256   0.130420\n",
              "8         29         Lewis and Clark Interpretive Center  ...   0.000007   0.016774\n",
              "9         30           Fort Mandan State Recreation Area  ...   0.000005   0.009396\n",
              "10        31                  Little Missouri State Park  ...   0.003136   0.313756\n",
              "11        32                      Sully Creek State Park  ...   0.000030   0.024016\n",
              "12        35        Butte St. Paul State Recreation Area  ...   0.000025   0.022095\n",
              "13        36       Crow Flies High State Recreation Area  ...   0.000120   0.050518\n",
              "14        33                     Turtle River State Park  ...   0.000378   0.145220\n",
              "15        34                   Lake Sakakawea State Park  ...   0.000357   0.191806\n",
              "16        37                  Elkhorn State Natural Area  ...   0.000127   0.067082\n",
              "17        38         Fahlgren Park State Recreation Area  ...   0.000010   0.013294\n",
              "18        39             Gunlogson State Nature Preserve  ...   0.000048   0.040465\n",
              "19        40  Head of the Mountain State Nature Preserve  ...   0.000034   0.033885\n",
              "20        41           Missouri River State Natural Area  ...   0.000083   0.087192\n",
              "21        43         Pembina Gorge State Recreation Area  ...   0.000615   0.338800\n",
              "22        44       Turtle Mountain State Recreation Area  ...   0.000345   0.086487\n",
              "23        45                      Cross Ranch State Park  ...   0.000274   0.180257\n",
              "24        42         Pelican Point State Recreation Area  ...   0.000013   0.026357\n",
              "\n",
              "[25 rows x 6 columns]"
            ]
          },
          "metadata": {},
          "execution_count": 55
        }
      ]
    },
    {
      "cell_type": "code",
      "metadata": {
        "colab": {
          "base_uri": "https://localhost:8080/"
        },
        "id": "rPfl2j-vBOa0",
        "outputId": "91918229-22fe-4d31-fb97-54f835158dd1"
      },
      "source": [
        "data.shape"
      ],
      "execution_count": null,
      "outputs": [
        {
          "output_type": "execute_result",
          "data": {
            "text/plain": [
              "(25, 6)"
            ]
          },
          "metadata": {},
          "execution_count": 56
        }
      ]
    },
    {
      "cell_type": "code",
      "metadata": {
        "colab": {
          "base_uri": "https://localhost:8080/"
        },
        "id": "ll8zicyX4Ok7",
        "outputId": "38f6a554-0280-425c-b588-e1dc983930ef"
      },
      "source": [
        "#5)Find the total count of missing values for each feature.\n",
        "missing_value = data.isna().sum()\n",
        "missing_value"
      ],
      "execution_count": null,
      "outputs": [
        {
          "output_type": "execute_result",
          "data": {
            "text/plain": [
              "OBJECTID       0\n",
              "UNIT_NAME      0\n",
              "DESCRIPTION    0\n",
              "ACRES          0\n",
              "SHAPE.AREA     0\n",
              "SHAPE.LEN      0\n",
              "dtype: int64"
            ]
          },
          "metadata": {},
          "execution_count": 58
        }
      ]
    },
    {
      "cell_type": "code",
      "metadata": {
        "colab": {
          "base_uri": "https://localhost:8080/"
        },
        "id": "aDfhPp7X41ro",
        "outputId": "94cef783-e373-4133-ba26-72d31d473bb7"
      },
      "source": [
        "#6)Display all the unique values from the 'DESCRIPTION’ column.\n",
        "data['DESCRIPTION'].value_counts()\n"
      ],
      "execution_count": null,
      "outputs": [
        {
          "output_type": "execute_result",
          "data": {
            "text/plain": [
              "State Park               13\n",
              "State Recreation Area     7\n",
              "State Nature Preserve     2\n",
              "State Natural Area        2\n",
              "Interpretive Center       1\n",
              "Name: DESCRIPTION, dtype: int64"
            ]
          },
          "metadata": {},
          "execution_count": 65
        }
      ]
    },
    {
      "cell_type": "code",
      "metadata": {
        "colab": {
          "base_uri": "https://localhost:8080/"
        },
        "id": "Rzulwwqv5vvY",
        "outputId": "110bb317-f51e-421e-d0cb-75500a1fd63a"
      },
      "source": [
        "data['UNIT_NAME'].value_counts()"
      ],
      "execution_count": null,
      "outputs": [
        {
          "output_type": "execute_result",
          "data": {
            "text/plain": [
              "Lake Metigoshe State Park                     1\n",
              "Fort Stevenson State Park                     1\n",
              "Butte St. Paul State Recreation Area          1\n",
              "Turtle Mountain State Recreation Area         1\n",
              "Pelican Point State Recreation Area           1\n",
              "Fort Abraham Lincoln State Park               1\n",
              "Icelandic State Park                          1\n",
              "Fort Mandan State Recreation Area             1\n",
              "Little Missouri State Park                    1\n",
              "Beaver Lake State Park                        1\n",
              "Elkhorn State Natural Area                    1\n",
              "Head of the Mountain State Nature Preserve    1\n",
              "Lake Sakakawea State Park                     1\n",
              "Gunlogson State Nature Preserve               1\n",
              "Sully Creek State Park                        1\n",
              "Lewis and Clark Interpretive Center           1\n",
              "Turtle River State Park                       1\n",
              "Cross Ranch State Park                        1\n",
              "Fort Ransom State Park                        1\n",
              "Fahlgren Park State Recreation Area           1\n",
              "Missouri River State Natural Area             1\n",
              "Crow Flies High State Recreation Area         1\n",
              "Grahams Island State Park                     1\n",
              "Lewis and Clark State Park                    1\n",
              "Pembina Gorge State Recreation Area           1\n",
              "Name: UNIT_NAME, dtype: int64"
            ]
          },
          "metadata": {},
          "execution_count": 66
        }
      ]
    },
    {
      "cell_type": "code",
      "metadata": {
        "colab": {
          "base_uri": "https://localhost:8080/"
        },
        "id": "0jJi2D5QDQpX",
        "outputId": "20de5484-6499-4ca9-9934-1c66145ce19c"
      },
      "source": [
        "data['ACRES'].value_counts()"
      ],
      "execution_count": null,
      "outputs": [
        {
          "output_type": "execute_result",
          "data": {
            "text/plain": [
              "6492.93    1\n",
              "14.71      1\n",
              "21.56      1\n",
              "247.11     1\n",
              "273.16     1\n",
              "51.23      1\n",
              "264.84     1\n",
              "1236.98    1\n",
              "739.52     1\n",
              "174.39     1\n",
              "1508.53    1\n",
              "524.81     1\n",
              "586.48     1\n",
              "569.07     1\n",
              "695.04     1\n",
              "63.03      1\n",
              "95.89      1\n",
              "933.78     1\n",
              "930.30     1\n",
              "25.22      1\n",
              "836.47     1\n",
              "11.40      1\n",
              "72.30      1\n",
              "775.28     1\n",
              "959.33     1\n",
              "Name: ACRES, dtype: int64"
            ]
          },
          "metadata": {},
          "execution_count": 68
        }
      ]
    },
    {
      "cell_type": "code",
      "metadata": {
        "colab": {
          "base_uri": "https://localhost:8080/"
        },
        "id": "OsXkhCqxDbWP",
        "outputId": "82201b81-f0ec-4d9a-cd8b-463bb6d6e023"
      },
      "source": [
        "data['SHAPE.AREA'].value_counts()"
      ],
      "execution_count": null,
      "outputs": [
        {
          "output_type": "execute_result",
          "data": {
            "text/plain": [
              "0.000083    1\n",
              "0.003136    1\n",
              "0.000461    1\n",
              "0.000127    1\n",
              "0.000005    1\n",
              "0.000399    1\n",
              "0.000274    1\n",
              "0.000357    1\n",
              "0.000034    1\n",
              "0.000469    1\n",
              "0.000284    1\n",
              "0.000120    1\n",
              "0.000048    1\n",
              "0.000378    1\n",
              "0.000256    1\n",
              "0.000751    1\n",
              "0.000010    1\n",
              "0.000025    1\n",
              "0.000013    1\n",
              "0.000030    1\n",
              "0.000345    1\n",
              "0.000129    1\n",
              "0.000444    1\n",
              "0.000007    1\n",
              "0.000615    1\n",
              "Name: SHAPE.AREA, dtype: int64"
            ]
          },
          "metadata": {},
          "execution_count": 69
        }
      ]
    },
    {
      "cell_type": "code",
      "metadata": {
        "colab": {
          "base_uri": "https://localhost:8080/"
        },
        "id": "3ofXZSs1Drln",
        "outputId": "ba9dce9b-2e16-4907-eee6-90b06664a3fa"
      },
      "source": [
        "data['SHAPE.LEN'].value_counts() "
      ],
      "execution_count": null,
      "outputs": [
        {
          "output_type": "execute_result",
          "data": {
            "text/plain": [
              "0.087192    1\n",
              "0.067082    1\n",
              "0.130420    1\n",
              "0.026357    1\n",
              "0.119868    1\n",
              "0.016774    1\n",
              "0.125546    1\n",
              "0.050518    1\n",
              "0.024016    1\n",
              "0.009396    1\n",
              "0.033885    1\n",
              "0.212196    1\n",
              "0.338800    1\n",
              "0.135641    1\n",
              "0.191806    1\n",
              "0.086487    1\n",
              "0.145220    1\n",
              "0.180257    1\n",
              "0.022095    1\n",
              "0.166712    1\n",
              "0.128733    1\n",
              "0.080067    1\n",
              "0.313756    1\n",
              "0.040465    1\n",
              "0.013294    1\n",
              "Name: SHAPE.LEN, dtype: int64"
            ]
          },
          "metadata": {},
          "execution_count": 70
        }
      ]
    },
    {
      "cell_type": "code",
      "metadata": {
        "colab": {
          "base_uri": "https://localhost:8080/"
        },
        "id": "xXRcfuadDzea",
        "outputId": "2af90dce-a97e-4bfc-cc91-1f618e8aa07f"
      },
      "source": [
        "#7)Create a grouped table usin 'DESCRIPTION' as the grouping columns with the means of all the other columns.\n",
        "data.groupby('DESCRIPTION').OBJECTID.mean()"
      ],
      "execution_count": null,
      "outputs": [
        {
          "output_type": "execute_result",
          "data": {
            "text/plain": [
              "DESCRIPTION\n",
              "Interpretive Center      29.000000\n",
              "State Natural Area       39.000000\n",
              "State Nature Preserve    39.500000\n",
              "State Park               28.538462\n",
              "State Recreation Area    38.285714\n",
              "Name: OBJECTID, dtype: float64"
            ]
          },
          "metadata": {},
          "execution_count": 73
        }
      ]
    },
    {
      "cell_type": "code",
      "metadata": {
        "colab": {
          "base_uri": "https://localhost:8080/"
        },
        "id": "fnthpdo3EWHD",
        "outputId": "a3a9609a-5dc6-42f9-f718-5b4ae62db494"
      },
      "source": [
        "data.groupby('DESCRIPTION').UNIT_NAME.count()"
      ],
      "execution_count": null,
      "outputs": [
        {
          "output_type": "execute_result",
          "data": {
            "text/plain": [
              "DESCRIPTION\n",
              "Interpretive Center       1\n",
              "State Natural Area        2\n",
              "State Nature Preserve     2\n",
              "State Park               13\n",
              "State Recreation Area     7\n",
              "Name: UNIT_NAME, dtype: int64"
            ]
          },
          "metadata": {},
          "execution_count": 76
        }
      ]
    },
    {
      "cell_type": "code",
      "metadata": {
        "colab": {
          "base_uri": "https://localhost:8080/"
        },
        "id": "f-eNBvdfE-CG",
        "outputId": "508e08e8-c626-46c6-f835-08a2e87a1fd3"
      },
      "source": [
        "data.groupby('DESCRIPTION').ACRES.mean()"
      ],
      "execution_count": null,
      "outputs": [
        {
          "output_type": "execute_result",
          "data": {
            "text/plain": [
              "DESCRIPTION\n",
              "Interpretive Center        14.710000\n",
              "State Natural Area        219.615000\n",
              "State Nature Preserve      84.095000\n",
              "State Park               1168.668462\n",
              "State Recreation Area     326.934286\n",
              "Name: ACRES, dtype: float64"
            ]
          },
          "metadata": {},
          "execution_count": 77
        }
      ]
    },
    {
      "cell_type": "code",
      "metadata": {
        "id": "Rrk3Tg--FZkz"
      },
      "source": [
        ""
      ],
      "execution_count": null,
      "outputs": []
    },
    {
      "cell_type": "code",
      "metadata": {
        "colab": {
          "base_uri": "https://localhost:8080/"
        },
        "id": "BT2yrMC-FiqP",
        "outputId": "d09ba419-d924-433b-96d8-6bac8163b609"
      },
      "source": [
        "#8)Generate a random sample of 10 rows from the data.\n",
        "a = np.random.rand(10)\n",
        "a"
      ],
      "execution_count": null,
      "outputs": [
        {
          "output_type": "execute_result",
          "data": {
            "text/plain": [
              "array([5.16881219e-04, 9.11515995e-02, 4.33012008e-02, 6.57817846e-01,\n",
              "       7.94118755e-01, 9.48346454e-01, 3.85399571e-01, 1.74419288e-01,\n",
              "       7.17055344e-01, 7.98082897e-01])"
            ]
          },
          "metadata": {},
          "execution_count": 86
        }
      ]
    },
    {
      "cell_type": "code",
      "metadata": {
        "colab": {
          "base_uri": "https://localhost:8080/"
        },
        "id": "kteIvGfEGX7V",
        "outputId": "1558926f-b0a2-4f8f-eca2-248baedff639"
      },
      "source": [
        "#9)Add a Feature called 'New_feature' to the new Dataset and \n",
        "#Add Random float Values in between 0 and 1 using Numpy.\n",
        "new_feature = np.random.rand(5)\n",
        "new_feature"
      ],
      "execution_count": null,
      "outputs": [
        {
          "output_type": "execute_result",
          "data": {
            "text/plain": [
              "array([0.32320436, 0.24940288, 0.7631069 , 0.47126091, 0.72700391])"
            ]
          },
          "metadata": {},
          "execution_count": 92
        }
      ]
    },
    {
      "cell_type": "code",
      "metadata": {
        "colab": {
          "base_uri": "https://localhost:8080/",
          "height": 1000
        },
        "id": "XX5fOZqNHZWd",
        "outputId": "bd467728-1cf0-4bc2-a475-12917b2548dc"
      },
      "source": [
        "New_feature=np.random.rand(25,1)\n",
        "data['New_feature']=New_feature\n",
        "data\n"
      ],
      "execution_count": 94,
      "outputs": [
        {
          "output_type": "execute_result",
          "data": {
            "text/html": [
              "<div>\n",
              "<style scoped>\n",
              "    .dataframe tbody tr th:only-of-type {\n",
              "        vertical-align: middle;\n",
              "    }\n",
              "\n",
              "    .dataframe tbody tr th {\n",
              "        vertical-align: top;\n",
              "    }\n",
              "\n",
              "    .dataframe thead th {\n",
              "        text-align: right;\n",
              "    }\n",
              "</style>\n",
              "<table border=\"1\" class=\"dataframe\">\n",
              "  <thead>\n",
              "    <tr style=\"text-align: right;\">\n",
              "      <th></th>\n",
              "      <th>OBJECTID</th>\n",
              "      <th>UNIT_NAME</th>\n",
              "      <th>DESCRIPTION</th>\n",
              "      <th>ACRES</th>\n",
              "      <th>SHAPE.AREA</th>\n",
              "      <th>SHAPE.LEN</th>\n",
              "      <th>New_feature</th>\n",
              "    </tr>\n",
              "  </thead>\n",
              "  <tbody>\n",
              "    <tr>\n",
              "      <th>0</th>\n",
              "      <td>21</td>\n",
              "      <td>Fort Stevenson State Park</td>\n",
              "      <td>State Park</td>\n",
              "      <td>586.48</td>\n",
              "      <td>0.000284</td>\n",
              "      <td>0.135641</td>\n",
              "      <td>0.341396</td>\n",
              "    </tr>\n",
              "    <tr>\n",
              "      <th>1</th>\n",
              "      <td>22</td>\n",
              "      <td>Beaver Lake State Park</td>\n",
              "      <td>State Park</td>\n",
              "      <td>273.16</td>\n",
              "      <td>0.000129</td>\n",
              "      <td>0.080067</td>\n",
              "      <td>0.540432</td>\n",
              "    </tr>\n",
              "    <tr>\n",
              "      <th>2</th>\n",
              "      <td>23</td>\n",
              "      <td>Fort Abraham Lincoln State Park</td>\n",
              "      <td>State Park</td>\n",
              "      <td>836.47</td>\n",
              "      <td>0.000399</td>\n",
              "      <td>0.119868</td>\n",
              "      <td>0.537432</td>\n",
              "    </tr>\n",
              "    <tr>\n",
              "      <th>3</th>\n",
              "      <td>24</td>\n",
              "      <td>Fort Ransom State Park</td>\n",
              "      <td>State Park</td>\n",
              "      <td>933.78</td>\n",
              "      <td>0.000444</td>\n",
              "      <td>0.128733</td>\n",
              "      <td>0.017064</td>\n",
              "    </tr>\n",
              "    <tr>\n",
              "      <th>4</th>\n",
              "      <td>25</td>\n",
              "      <td>Grahams Island State Park</td>\n",
              "      <td>State Park</td>\n",
              "      <td>959.33</td>\n",
              "      <td>0.000469</td>\n",
              "      <td>0.125546</td>\n",
              "      <td>0.183358</td>\n",
              "    </tr>\n",
              "    <tr>\n",
              "      <th>5</th>\n",
              "      <td>26</td>\n",
              "      <td>Icelandic State Park</td>\n",
              "      <td>State Park</td>\n",
              "      <td>930.30</td>\n",
              "      <td>0.000461</td>\n",
              "      <td>0.166712</td>\n",
              "      <td>0.644172</td>\n",
              "    </tr>\n",
              "    <tr>\n",
              "      <th>6</th>\n",
              "      <td>27</td>\n",
              "      <td>Lake Metigoshe State Park</td>\n",
              "      <td>State Park</td>\n",
              "      <td>1508.53</td>\n",
              "      <td>0.000751</td>\n",
              "      <td>0.212196</td>\n",
              "      <td>0.059727</td>\n",
              "    </tr>\n",
              "    <tr>\n",
              "      <th>7</th>\n",
              "      <td>28</td>\n",
              "      <td>Lewis and Clark State Park</td>\n",
              "      <td>State Park</td>\n",
              "      <td>524.81</td>\n",
              "      <td>0.000256</td>\n",
              "      <td>0.130420</td>\n",
              "      <td>0.666799</td>\n",
              "    </tr>\n",
              "    <tr>\n",
              "      <th>8</th>\n",
              "      <td>29</td>\n",
              "      <td>Lewis and Clark Interpretive Center</td>\n",
              "      <td>Interpretive Center</td>\n",
              "      <td>14.71</td>\n",
              "      <td>0.000007</td>\n",
              "      <td>0.016774</td>\n",
              "      <td>0.696688</td>\n",
              "    </tr>\n",
              "    <tr>\n",
              "      <th>9</th>\n",
              "      <td>30</td>\n",
              "      <td>Fort Mandan State Recreation Area</td>\n",
              "      <td>State Recreation Area</td>\n",
              "      <td>11.40</td>\n",
              "      <td>0.000005</td>\n",
              "      <td>0.009396</td>\n",
              "      <td>0.666568</td>\n",
              "    </tr>\n",
              "    <tr>\n",
              "      <th>10</th>\n",
              "      <td>31</td>\n",
              "      <td>Little Missouri State Park</td>\n",
              "      <td>State Park</td>\n",
              "      <td>6492.93</td>\n",
              "      <td>0.003136</td>\n",
              "      <td>0.313756</td>\n",
              "      <td>0.018096</td>\n",
              "    </tr>\n",
              "    <tr>\n",
              "      <th>11</th>\n",
              "      <td>32</td>\n",
              "      <td>Sully Creek State Park</td>\n",
              "      <td>State Park</td>\n",
              "      <td>63.03</td>\n",
              "      <td>0.000030</td>\n",
              "      <td>0.024016</td>\n",
              "      <td>0.450074</td>\n",
              "    </tr>\n",
              "    <tr>\n",
              "      <th>12</th>\n",
              "      <td>35</td>\n",
              "      <td>Butte St. Paul State Recreation Area</td>\n",
              "      <td>State Recreation Area</td>\n",
              "      <td>51.23</td>\n",
              "      <td>0.000025</td>\n",
              "      <td>0.022095</td>\n",
              "      <td>0.423447</td>\n",
              "    </tr>\n",
              "    <tr>\n",
              "      <th>13</th>\n",
              "      <td>36</td>\n",
              "      <td>Crow Flies High State Recreation Area</td>\n",
              "      <td>State Recreation Area</td>\n",
              "      <td>247.11</td>\n",
              "      <td>0.000120</td>\n",
              "      <td>0.050518</td>\n",
              "      <td>0.393027</td>\n",
              "    </tr>\n",
              "    <tr>\n",
              "      <th>14</th>\n",
              "      <td>33</td>\n",
              "      <td>Turtle River State Park</td>\n",
              "      <td>State Park</td>\n",
              "      <td>775.28</td>\n",
              "      <td>0.000378</td>\n",
              "      <td>0.145220</td>\n",
              "      <td>0.364341</td>\n",
              "    </tr>\n",
              "    <tr>\n",
              "      <th>15</th>\n",
              "      <td>34</td>\n",
              "      <td>Lake Sakakawea State Park</td>\n",
              "      <td>State Park</td>\n",
              "      <td>739.52</td>\n",
              "      <td>0.000357</td>\n",
              "      <td>0.191806</td>\n",
              "      <td>0.459612</td>\n",
              "    </tr>\n",
              "    <tr>\n",
              "      <th>16</th>\n",
              "      <td>37</td>\n",
              "      <td>Elkhorn State Natural Area</td>\n",
              "      <td>State Natural Area</td>\n",
              "      <td>264.84</td>\n",
              "      <td>0.000127</td>\n",
              "      <td>0.067082</td>\n",
              "      <td>0.596649</td>\n",
              "    </tr>\n",
              "    <tr>\n",
              "      <th>17</th>\n",
              "      <td>38</td>\n",
              "      <td>Fahlgren Park State Recreation Area</td>\n",
              "      <td>State Recreation Area</td>\n",
              "      <td>21.56</td>\n",
              "      <td>0.000010</td>\n",
              "      <td>0.013294</td>\n",
              "      <td>0.975819</td>\n",
              "    </tr>\n",
              "    <tr>\n",
              "      <th>18</th>\n",
              "      <td>39</td>\n",
              "      <td>Gunlogson State Nature Preserve</td>\n",
              "      <td>State Nature Preserve</td>\n",
              "      <td>95.89</td>\n",
              "      <td>0.000048</td>\n",
              "      <td>0.040465</td>\n",
              "      <td>0.930112</td>\n",
              "    </tr>\n",
              "    <tr>\n",
              "      <th>19</th>\n",
              "      <td>40</td>\n",
              "      <td>Head of the Mountain State Nature Preserve</td>\n",
              "      <td>State Nature Preserve</td>\n",
              "      <td>72.30</td>\n",
              "      <td>0.000034</td>\n",
              "      <td>0.033885</td>\n",
              "      <td>0.728065</td>\n",
              "    </tr>\n",
              "    <tr>\n",
              "      <th>20</th>\n",
              "      <td>41</td>\n",
              "      <td>Missouri River State Natural Area</td>\n",
              "      <td>State Natural Area</td>\n",
              "      <td>174.39</td>\n",
              "      <td>0.000083</td>\n",
              "      <td>0.087192</td>\n",
              "      <td>0.630890</td>\n",
              "    </tr>\n",
              "    <tr>\n",
              "      <th>21</th>\n",
              "      <td>43</td>\n",
              "      <td>Pembina Gorge State Recreation Area</td>\n",
              "      <td>State Recreation Area</td>\n",
              "      <td>1236.98</td>\n",
              "      <td>0.000615</td>\n",
              "      <td>0.338800</td>\n",
              "      <td>0.234431</td>\n",
              "    </tr>\n",
              "    <tr>\n",
              "      <th>22</th>\n",
              "      <td>44</td>\n",
              "      <td>Turtle Mountain State Recreation Area</td>\n",
              "      <td>State Recreation Area</td>\n",
              "      <td>695.04</td>\n",
              "      <td>0.000345</td>\n",
              "      <td>0.086487</td>\n",
              "      <td>0.467119</td>\n",
              "    </tr>\n",
              "    <tr>\n",
              "      <th>23</th>\n",
              "      <td>45</td>\n",
              "      <td>Cross Ranch State Park</td>\n",
              "      <td>State Park</td>\n",
              "      <td>569.07</td>\n",
              "      <td>0.000274</td>\n",
              "      <td>0.180257</td>\n",
              "      <td>0.534654</td>\n",
              "    </tr>\n",
              "    <tr>\n",
              "      <th>24</th>\n",
              "      <td>42</td>\n",
              "      <td>Pelican Point State Recreation Area</td>\n",
              "      <td>State Recreation Area</td>\n",
              "      <td>25.22</td>\n",
              "      <td>0.000013</td>\n",
              "      <td>0.026357</td>\n",
              "      <td>0.420329</td>\n",
              "    </tr>\n",
              "  </tbody>\n",
              "</table>\n",
              "</div>"
            ],
            "text/plain": [
              "    OBJECTID  ... New_feature\n",
              "0         21  ...    0.341396\n",
              "1         22  ...    0.540432\n",
              "2         23  ...    0.537432\n",
              "3         24  ...    0.017064\n",
              "4         25  ...    0.183358\n",
              "5         26  ...    0.644172\n",
              "6         27  ...    0.059727\n",
              "7         28  ...    0.666799\n",
              "8         29  ...    0.696688\n",
              "9         30  ...    0.666568\n",
              "10        31  ...    0.018096\n",
              "11        32  ...    0.450074\n",
              "12        35  ...    0.423447\n",
              "13        36  ...    0.393027\n",
              "14        33  ...    0.364341\n",
              "15        34  ...    0.459612\n",
              "16        37  ...    0.596649\n",
              "17        38  ...    0.975819\n",
              "18        39  ...    0.930112\n",
              "19        40  ...    0.728065\n",
              "20        41  ...    0.630890\n",
              "21        43  ...    0.234431\n",
              "22        44  ...    0.467119\n",
              "23        45  ...    0.534654\n",
              "24        42  ...    0.420329\n",
              "\n",
              "[25 rows x 7 columns]"
            ]
          },
          "metadata": {},
          "execution_count": 94
        }
      ]
    },
    {
      "cell_type": "code",
      "metadata": {
        "id": "HF-khcZCHjiO"
      },
      "source": [
        "#10) Replace zero value of column 'OBJECTID' with mean value permanently.\n",
        "mean_value=data['OBJECTID'].mean()"
      ],
      "execution_count": 96,
      "outputs": []
    },
    {
      "cell_type": "code",
      "metadata": {
        "colab": {
          "base_uri": "https://localhost:8080/"
        },
        "id": "xyEz-eaWKB2L",
        "outputId": "e428f24f-d881-4b16-bb27-0124ce296855"
      },
      "source": [
        "data[pd.isnull(data.OBJECTID)]\n",
        "data.OBJECTID.fillna(mean_value)\n",
        "\n"
      ],
      "execution_count": 98,
      "outputs": [
        {
          "output_type": "execute_result",
          "data": {
            "text/plain": [
              "0     21\n",
              "1     22\n",
              "2     23\n",
              "3     24\n",
              "4     25\n",
              "5     26\n",
              "6     27\n",
              "7     28\n",
              "8     29\n",
              "9     30\n",
              "10    31\n",
              "11    32\n",
              "12    35\n",
              "13    36\n",
              "14    33\n",
              "15    34\n",
              "16    37\n",
              "17    38\n",
              "18    39\n",
              "19    40\n",
              "20    41\n",
              "21    43\n",
              "22    44\n",
              "23    45\n",
              "24    42\n",
              "Name: OBJECTID, dtype: int64"
            ]
          },
          "metadata": {},
          "execution_count": 98
        }
      ]
    }
  ]
}